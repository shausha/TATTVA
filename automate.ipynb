{
 "cells": [
  {
   "cell_type": "code",
   "execution_count": 2,
   "metadata": {},
   "outputs": [],
   "source": [
    "from lxml import etree\n",
    "\n",
    "# Read the Sanskrit text\n",
    "with open(\"sanskrit.txt\", \"r\", encoding=\"utf-8\") as file:\n",
    "    content = file.readlines()\n",
    "\n",
    "# Create a TEI XML structure\n",
    "root = etree.Element(\"TEI\", xmlns=\"http://www.tei-c.org/ns/1.0\")\n",
    "tei_header = etree.SubElement(root, \"teiHeader\")\n",
    "file_desc = etree.SubElement(tei_header, \"fileDesc\")\n",
    "title_stmt = etree.SubElement(file_desc, \"titleStmt\")\n",
    "title = etree.SubElement(title_stmt, \"title\").text = \"Sanskrit Book Title\"\n",
    "author = etree.SubElement(title_stmt, \"author\").text = \"Author Name\"\n",
    "\n",
    "# Add body content\n",
    "text = etree.SubElement(root, \"text\")\n",
    "body = etree.SubElement(text, \"body\")\n",
    "\n",
    "# Divide text into chapters (example: every 10 lines is a chapter)\n",
    "chapter = etree.SubElement(body, \"div\", type=\"chapter\", n=\"1\")\n",
    "for line in content:\n",
    "    etree.SubElement(chapter, \"p\").text = line.strip()\n",
    "\n",
    "# Write to TEI XML\n",
    "tree = etree.ElementTree(root)\n",
    "tree.write(\"sanskrit.xml\", pretty_print=True, xml_declaration=True, encoding=\"utf-8\")\n"
   ]
  },
  {
   "cell_type": "code",
   "execution_count": 4,
   "metadata": {},
   "outputs": [
    {
     "name": "stdout",
     "output_type": "stream",
     "text": [
      "Title: Sanskrit Book Title\n",
      "Author: Author Name\n"
     ]
    }
   ],
   "source": [
    "from lxml import etree\n",
    "import sqlite3\n",
    "\n",
    "# Parse the TEI XML\n",
    "tree = etree.parse(\"sanskrit.xml\")\n",
    "root = tree.getroot()\n",
    "\n",
    "# Define TEI namespace\n",
    "ns = {\"tei\": \"http://www.tei-c.org/ns/1.0\"}\n",
    "\n",
    "# Extract Metadata with Namespace\n",
    "title_nodes = root.xpath(\"//tei:teiHeader/tei:fileDesc/tei:titleStmt/tei:title\", namespaces=ns)\n",
    "author_nodes = root.xpath(\"//tei:teiHeader/tei:fileDesc/tei:titleStmt/tei:author\", namespaces=ns)\n",
    "\n",
    "# Check and Extract Title and Author\n",
    "title = title_nodes[0].text if title_nodes else \"Unknown Title\"\n",
    "author = author_nodes[0].text if author_nodes else \"Unknown Author\"\n",
    "\n",
    "print(f\"Title: {title}\")\n",
    "print(f\"Author: {author}\")\n"
   ]
  },
  {
   "cell_type": "code",
   "execution_count": 5,
   "metadata": {},
   "outputs": [
    {
     "name": "stdout",
     "output_type": "stream",
     "text": [
      "Data successfully inserted into the database.\n"
     ]
    }
   ],
   "source": [
    "import sqlite3\n",
    "from lxml import etree\n",
    "\n",
    "# Connect to SQLite database\n",
    "conn = sqlite3.connect(\"sanskrit.db\")\n",
    "cursor = conn.cursor()\n",
    "\n",
    "# Create tables\n",
    "cursor.execute(\"\"\"\n",
    "CREATE TABLE IF NOT EXISTS Metadata (\n",
    "    book_id INTEGER PRIMARY KEY,\n",
    "    title TEXT,\n",
    "    author TEXT,\n",
    "    year INTEGER\n",
    ")\n",
    "\"\"\")\n",
    "cursor.execute(\"\"\"\n",
    "CREATE TABLE IF NOT EXISTS Content (\n",
    "    content_id INTEGER PRIMARY KEY,\n",
    "    book_id INTEGER,\n",
    "    chapter INTEGER,\n",
    "    text TEXT,\n",
    "    FOREIGN KEY(book_id) REFERENCES Metadata(book_id)\n",
    ")\n",
    "\"\"\")\n",
    "\n",
    "# Parse TEI XML\n",
    "tree = etree.parse(\"sanskrit.xml\")\n",
    "root = tree.getroot()\n",
    "\n",
    "# Define namespace for TEI\n",
    "ns = {\"tei\": \"http://www.tei-c.org/ns/1.0\"}\n",
    "\n",
    "# Extract Metadata\n",
    "title_nodes = root.xpath(\"//tei:teiHeader/tei:fileDesc/tei:titleStmt/tei:title\", namespaces=ns)\n",
    "author_nodes = root.xpath(\"//tei:teiHeader/tei:fileDesc/tei:titleStmt/tei:author\", namespaces=ns)\n",
    "\n",
    "# Safely retrieve title and author\n",
    "title = title_nodes[0].text if title_nodes else \"Unknown Title\"\n",
    "author = author_nodes[0].text if author_nodes else \"Unknown Author\"\n",
    "\n",
    "# Insert Metadata\n",
    "cursor.execute(\"INSERT INTO Metadata (title, author, year) VALUES (?, ?, ?)\", (title, author, 2024))\n",
    "book_id = cursor.lastrowid\n",
    "\n",
    "# Extract and Insert Content\n",
    "for chapter in root.xpath(\"//tei:text/tei:body/tei:div\", namespaces=ns):\n",
    "    chapter_number = chapter.attrib.get(\"n\", None)  # Default to None if 'n' is missing\n",
    "    for paragraph in chapter.xpath(\"tei:p\", namespaces=ns):\n",
    "        text = paragraph.text.strip() if paragraph.text else \"\"\n",
    "        if text:  # Avoid inserting empty paragraphs\n",
    "            cursor.execute(\n",
    "                \"INSERT INTO Content (book_id, chapter, text) VALUES (?, ?, ?)\",\n",
    "                (book_id, chapter_number, text)\n",
    "            )\n",
    "\n",
    "# Save and Close\n",
    "conn.commit()\n",
    "conn.close()\n",
    "\n",
    "print(\"Data successfully inserted into the database.\")\n"
   ]
  },
  {
   "cell_type": "code",
   "execution_count": 6,
   "metadata": {},
   "outputs": [
    {
     "name": "stdout",
     "output_type": "stream",
     "text": [
      "Data exported to sanskrit_content.csv\n"
     ]
    }
   ],
   "source": [
    "import sqlite3\n",
    "import csv\n",
    "\n",
    "# Connect to the database\n",
    "conn = sqlite3.connect(\"sanskrit.db\")\n",
    "cursor = conn.cursor()\n",
    "\n",
    "# Query data\n",
    "cursor.execute(\"SELECT * FROM Content\")\n",
    "\n",
    "# Write to CSV\n",
    "with open(\"sanskrit_content.csv\", \"w\", encoding=\"utf-8\", newline=\"\") as file:\n",
    "    writer = csv.writer(file)\n",
    "    writer.writerow([desc[0] for desc in cursor.description])  # Write headers\n",
    "    writer.writerows(cursor.fetchall())\n",
    "\n",
    "conn.close()\n",
    "print(\"Data exported to sanskrit_content.csv\")\n"
   ]
  },
  {
   "cell_type": "code",
   "execution_count": 2,
   "metadata": {},
   "outputs": [
    {
     "name": "stdout",
     "output_type": "stream",
     "text": [
      "All data from table 'Metadata' has been cleared.\n"
     ]
    }
   ],
   "source": [
    "import sqlite3\n",
    "\n",
    "def clear_table(table_name):\n",
    "    \"\"\"\n",
    "    Clears all data from the specified table in the database.\n",
    "    \n",
    "    Parameters:\n",
    "        table_name (str): The name of the table to clear.\n",
    "    \"\"\"\n",
    "    try:\n",
    "        conn = sqlite3.connect(\"sanskrit.db\")  # Replace with your database name\n",
    "        cursor = conn.cursor()\n",
    "        cursor.execute(f\"DELETE FROM {table_name}\")\n",
    "        conn.commit()\n",
    "        print(f\"All data from table '{table_name}' has been cleared.\")\n",
    "    except sqlite3.Error as e:\n",
    "        print(f\"An error occurred: {e}\")\n",
    "    finally:\n",
    "        conn.close()\n",
    "\n",
    "# Example usage\n",
    "clear_table(\"Metadata\")\n"
   ]
  },
  {
   "cell_type": "code",
   "execution_count": 1,
   "metadata": {},
   "outputs": [
    {
     "name": "stdout",
     "output_type": "stream",
     "text": [
      "All data from table 'Content' has been cleared.\n"
     ]
    }
   ],
   "source": [
    "import sqlite3\n",
    "\n",
    "def clear_table(table_name):\n",
    "    \"\"\"\n",
    "    Clears all data from the specified table in the database.\n",
    "    \n",
    "    Parameters:\n",
    "        table_name (str): The name of the table to clear.\n",
    "    \"\"\"\n",
    "    try:\n",
    "        conn = sqlite3.connect(\"sanskrit.db\")  # Replace with your database name\n",
    "        cursor = conn.cursor()\n",
    "        cursor.execute(f\"DELETE FROM {table_name}\")\n",
    "        conn.commit()\n",
    "        print(f\"All data from table '{table_name}' has been cleared.\")\n",
    "    except sqlite3.Error as e:\n",
    "        print(f\"An error occurred: {e}\")\n",
    "    finally:\n",
    "        conn.close()\n",
    "\n",
    "# Example usage\n",
    "clear_table(\"Content\")\n"
   ]
  },
  {
   "cell_type": "code",
   "execution_count": 3,
   "metadata": {},
   "outputs": [
    {
     "name": "stdout",
     "output_type": "stream",
     "text": [
      "Database file 'sanskrit.db' has  been vacuumed and reduced in size.\n"
     ]
    }
   ],
   "source": [
    "import sqlite3\n",
    "\n",
    "def vacuum_database(db_path):\n",
    "    \"\"\"\n",
    "    Shrinks the SQLite database file size by reclaiming unused space.\n",
    "    \n",
    "    Parameters:\n",
    "        db_path (str): The path to the SQLite database file.\n",
    "    \"\"\"\n",
    "    try:\n",
    "        conn = sqlite3.connect(db_path)\n",
    "        cursor = conn.cursor()\n",
    "        cursor.execute(\"VACUUM\")\n",
    "        conn.commit()\n",
    "        print(f\"Database file '{db_path}' has  been vacuumed and reduced in size.\")\n",
    "    except sqlite3.Error as e:\n",
    "        print(f\"An error occurred during vacuuming: {e}\")\n",
    "    finally:\n",
    "        conn.close()\n",
    "\n",
    "# Example usage\n",
    "vacuum_database(\"sanskrit.db\")\n"
   ]
  }
 ],
 "metadata": {
  "kernelspec": {
   "display_name": "Python 3",
   "language": "python",
   "name": "python3"
  },
  "language_info": {
   "codemirror_mode": {
    "name": "ipython",
    "version": 3
   },
   "file_extension": ".py",
   "mimetype": "text/x-python",
   "name": "python",
   "nbconvert_exporter": "python",
   "pygments_lexer": "ipython3",
   "version": "3.12.8"
  }
 },
 "nbformat": 4,
 "nbformat_minor": 2
}
